{
 "cells": [
  {
   "cell_type": "markdown",
   "metadata": {},
   "source": [
    "#### Metagenomics\n",
    "\n",
    "QIIME2 and its Artifact API, this notebook contains an analysis of \n",
    "microbiome data from microbiome transplant. [1]\n"
   ]
  },
  {
   "cell_type": "code",
   "execution_count": 1,
   "metadata": {},
   "outputs": [],
   "source": [
    "import pandas as panda\n",
    "\n",
    "from qiime2.metadata.metadata import Metadata, CategoricalMetadataColumn\n",
    "from qiime2.sdk import Artifact, PluginManager, Result\n"
   ]
  },
  {
   "cell_type": "code",
   "execution_count": 2,
   "metadata": {},
   "outputs": [
    {
     "data": {
      "text/plain": [
       "{'alignment': <qiime2.plugin.plugin.Plugin at 0x7fba84a46ee0>,\n",
       " 'composition': <qiime2.plugin.plugin.Plugin at 0x7fba84420610>,\n",
       " 'cutadapt': <qiime2.plugin.plugin.Plugin at 0x7fba843c3ee0>,\n",
       " 'dada2': <qiime2.plugin.plugin.Plugin at 0x7fba843c3160>,\n",
       " 'deblur': <qiime2.plugin.plugin.Plugin at 0x7fb9d86a0640>,\n",
       " 'demux': <qiime2.plugin.plugin.Plugin at 0x7fba66c9ee80>,\n",
       " 'diversity': <qiime2.plugin.plugin.Plugin at 0x7fba43d0e280>,\n",
       " 'diversity-lib': <qiime2.plugin.plugin.Plugin at 0x7fba43d2fc10>,\n",
       " 'emperor': <qiime2.plugin.plugin.Plugin at 0x7fba43d2fd90>,\n",
       " 'feature-classifier': <qiime2.plugin.plugin.Plugin at 0x7fba43d0ec10>,\n",
       " 'feature-table': <qiime2.plugin.plugin.Plugin at 0x7fba332ddac0>,\n",
       " 'fragment-insertion': <qiime2.plugin.plugin.Plugin at 0x7fba332ddc70>,\n",
       " 'gneiss': <qiime2.plugin.plugin.Plugin at 0x7fba332cdb20>,\n",
       " 'longitudinal': <qiime2.plugin.plugin.Plugin at 0x7fb9df259e20>,\n",
       " 'metadata': <qiime2.plugin.plugin.Plugin at 0x7fb9df23c9d0>,\n",
       " 'phylogeny': <qiime2.plugin.plugin.Plugin at 0x7fb9df1ae7f0>,\n",
       " 'quality-control': <qiime2.plugin.plugin.Plugin at 0x7fb9df1aeaf0>,\n",
       " 'quality-filter': <qiime2.plugin.plugin.Plugin at 0x7fb9df12f580>,\n",
       " 'sample-classifier': <qiime2.plugin.plugin.Plugin at 0x7fba32f7e2e0>,\n",
       " 'taxa': <qiime2.plugin.plugin.Plugin at 0x7fb9df091d60>,\n",
       " 'types': <qiime2.plugin.plugin.Plugin at 0x7fb9d864c310>,\n",
       " 'vsearch': <qiime2.plugin.plugin.Plugin at 0x7fb9d2ac1640>}"
      ]
     },
     "execution_count": 2,
     "metadata": {},
     "output_type": "execute_result"
    }
   ],
   "source": [
    "pm = PluginManager()\n",
    "demux_plugin = pm.plugins['demux']\n",
    "demux_summarize = demux_plugin.actions['summarize']\n",
    "pm.plugins"
   ]
  },
  {
   "cell_type": "code",
   "execution_count": 3,
   "metadata": {},
   "outputs": [
    {
     "name": "stdout",
     "output_type": "stream",
     "text": [
      "Summarize counts per sample for all samples, and generate interactive positional quality plots based on `n` randomly selected sequences.\n",
      "OrderedDict([('data', ParameterSpec(qiime_type=SampleData[SequencesWithQuality | PairedEndSequencesWithQuality | JoinedSequencesWithQuality], view_type=<class 'q2_demux._summarize._visualizer._PlotQualView'>, default=NOVALUE, description='The demultiplexed sequences to be summarized.'))])\n",
      "OrderedDict([('n', ParameterSpec(qiime_type=Int, view_type=<class 'int'>, default=10000, description='The number of sequences that should be selected at random for quality score plots. The quality plots will present the average positional qualities across all of the sequences selected. If input sequences are paired end, plots will be generated for both forward and reverse reads for the same `n` sequences.'))])\n",
      "OrderedDict([('visualization', ParameterSpec(qiime_type=Visualization, view_type=None, default=NOVALUE, description=NOVALUE))])\n"
     ]
    }
   ],
   "source": [
    "print(demux_summarize.description)\n",
    "demux_summarize_signature = demux_summarize.signature\n",
    "print(demux_summarize_signature.inputs)\n",
    "print(demux_summarize_signature.parameters)\n",
    "print(demux_summarize_signature.outputs)"
   ]
  },
  {
   "cell_type": "code",
   "execution_count": 4,
   "metadata": {},
   "outputs": [
    {
     "name": "stderr",
     "output_type": "stream",
     "text": [
      "/home/coniglio/anaconda3/envs/qiime2-2023.5/lib/python3.8/site-packages/q2_demux/_summarize/_visualizer.py:191: FutureWarning: The frame.append method is deprecated and will be removed from pandas in a future version. Use pandas.concat instead.\n",
      "  context['result_data'] = context['result_data'].append(df)\n"
     ]
    },
    {
     "data": {
      "text/html": [
       "<div><img onload=\"(function(div, url){\n",
       "if (typeof require !== 'undefined') {\n",
       "    var baseURL = require.toUrl('').split('/').slice(0, -2).join('/');\n",
       "} else {\n",
       "    var baseURL = JSON.parse(\n",
       "        document.getElementById('jupyter-config-data').innerHTML\n",
       "    ).baseUrl.slice(0, -1);\n",
       "}\n",
       "url = baseURL + url;\n",
       "fetch(url).then(function(res) {\n",
       "    if (res.status === 404) {\n",
       "        div.innerHTML = 'Install QIIME 2 Jupyter extension with:<br />' +\n",
       "                        '<code>jupyter serverextension enable --py qiime2' +\n",
       "                        ' --sys-prefix</code><br />then restart your server.' +\n",
       "                        '<br /><br />(Interactive output not available on ' +\n",
       "                        'static notebook viewer services like nbviewer.)';\n",
       "    } else if (res.status === 409) {\n",
       "        div.innerHTML = 'Visualization no longer in scope. Re-run this cell' +\n",
       "                        ' to see the visualization.';\n",
       "    } else if (res.ok) {\n",
       "        url = res.url;\n",
       "        div.innerHTML = '<iframe src=\\'' + url + '\\' style=\\'' +\n",
       "                        'width: 100%; height: 700px; border: 0;\\'>' +\n",
       "                        '</iframe><hr />Open in a: <a href=\\'' + url + '\\'' +\n",
       "                        ' target=\\'_blank\\'>new window</a>'\n",
       "    } else {\n",
       "        div.innerHTML = 'Something has gone wrong. Check notebook server for' +\n",
       "                        ' errors.';\n",
       "    }\n",
       "});\n",
       "})(this.parentElement, '/qiime2/redirect?location=/tmp/qiime2/coniglio/data/5dd1a3b2-6b9f-480c-9a0d-6f03292aece4')\" src=\"data:image/gif;base64,R0lGODlhAQABAIAAAP///wAAACH5BAEAAAAALAAAAAABAAEAAAICRAEAOw==\" /></div>"
      ],
      "text/plain": [
       "<visualization: Visualization uuid: 5dd1a3b2-6b9f-480c-9a0d-6f03292aece4>"
      ]
     },
     "execution_count": 4,
     "metadata": {},
     "output_type": "execute_result"
    }
   ],
   "source": [
    "seqs1 = Result.load('fmt-tutorial-demux-1-10p.qza')\n",
    "sum_data = demux_summarize(seqs1)\n",
    "\n",
    "sum_data.visualization"
   ]
  }
 ],
 "metadata": {
  "kernelspec": {
   "display_name": "qiime2-2023.5",
   "language": "python",
   "name": "python3"
  },
  "language_info": {
   "codemirror_mode": {
    "name": "ipython",
    "version": 3
   },
   "file_extension": ".py",
   "mimetype": "text/x-python",
   "name": "python",
   "nbconvert_exporter": "python",
   "pygments_lexer": "ipython3",
   "version": "3.8.16"
  },
  "orig_nbformat": 4
 },
 "nbformat": 4,
 "nbformat_minor": 2
}
